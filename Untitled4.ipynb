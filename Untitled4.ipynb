{
 "cells": [
  {
   "cell_type": "code",
   "execution_count": 1,
   "id": "cb22e93d-eae2-4598-a278-df922ea9b1bd",
   "metadata": {},
   "outputs": [
    {
     "ename": "KeyError",
     "evalue": "'Lug_boot'",
     "output_type": "error",
     "traceback": [
      "\u001b[0;31m---------------------------------------------------------------------------\u001b[0m",
      "\u001b[0;31mKeyError\u001b[0m                                  Traceback (most recent call last)",
      "File \u001b[0;32m/opt/anaconda3/lib/python3.12/site-packages/pandas/core/indexes/base.py:3805\u001b[0m, in \u001b[0;36mIndex.get_loc\u001b[0;34m(self, key)\u001b[0m\n\u001b[1;32m   3804\u001b[0m \u001b[38;5;28;01mtry\u001b[39;00m:\n\u001b[0;32m-> 3805\u001b[0m     \u001b[38;5;28;01mreturn\u001b[39;00m \u001b[38;5;28mself\u001b[39m\u001b[38;5;241m.\u001b[39m_engine\u001b[38;5;241m.\u001b[39mget_loc(casted_key)\n\u001b[1;32m   3806\u001b[0m \u001b[38;5;28;01mexcept\u001b[39;00m \u001b[38;5;167;01mKeyError\u001b[39;00m \u001b[38;5;28;01mas\u001b[39;00m err:\n",
      "File \u001b[0;32mindex.pyx:167\u001b[0m, in \u001b[0;36mpandas._libs.index.IndexEngine.get_loc\u001b[0;34m()\u001b[0m\n",
      "File \u001b[0;32mindex.pyx:196\u001b[0m, in \u001b[0;36mpandas._libs.index.IndexEngine.get_loc\u001b[0;34m()\u001b[0m\n",
      "File \u001b[0;32mpandas/_libs/hashtable_class_helper.pxi:7081\u001b[0m, in \u001b[0;36mpandas._libs.hashtable.PyObjectHashTable.get_item\u001b[0;34m()\u001b[0m\n",
      "File \u001b[0;32mpandas/_libs/hashtable_class_helper.pxi:7089\u001b[0m, in \u001b[0;36mpandas._libs.hashtable.PyObjectHashTable.get_item\u001b[0;34m()\u001b[0m\n",
      "\u001b[0;31mKeyError\u001b[0m: 'Lug_boot'",
      "\nThe above exception was the direct cause of the following exception:\n",
      "\u001b[0;31mKeyError\u001b[0m                                  Traceback (most recent call last)",
      "Cell \u001b[0;32mIn[1], line 84\u001b[0m\n\u001b[1;32m     82\u001b[0m \u001b[38;5;66;03m# Train TDIDT model using 'Take First' approach\u001b[39;00m\n\u001b[1;32m     83\u001b[0m model_take_first \u001b[38;5;241m=\u001b[39m TDIDT(approach\u001b[38;5;241m=\u001b[39m\u001b[38;5;124m'\u001b[39m\u001b[38;5;124mtake_first\u001b[39m\u001b[38;5;124m'\u001b[39m)\n\u001b[0;32m---> 84\u001b[0m model_take_first\u001b[38;5;241m.\u001b[39mfit(data)\n\u001b[1;32m     86\u001b[0m \u001b[38;5;66;03m# Print the generated decision tree for Take First approach\u001b[39;00m\n\u001b[1;32m     87\u001b[0m \u001b[38;5;28mprint\u001b[39m(\u001b[38;5;124m\"\u001b[39m\u001b[38;5;124mDecision Tree using \u001b[39m\u001b[38;5;124m'\u001b[39m\u001b[38;5;124mTake First\u001b[39m\u001b[38;5;124m'\u001b[39m\u001b[38;5;124m approach:\u001b[39m\u001b[38;5;124m\"\u001b[39m)\n",
      "Cell \u001b[0;32mIn[1], line 24\u001b[0m, in \u001b[0;36mTDIDT.fit\u001b[0;34m(self, data)\u001b[0m\n\u001b[1;32m     23\u001b[0m \u001b[38;5;28;01mdef\u001b[39;00m \u001b[38;5;21mfit\u001b[39m(\u001b[38;5;28mself\u001b[39m, data):\n\u001b[0;32m---> 24\u001b[0m     \u001b[38;5;28mself\u001b[39m\u001b[38;5;241m.\u001b[39mtree \u001b[38;5;241m=\u001b[39m \u001b[38;5;28mself\u001b[39m\u001b[38;5;241m.\u001b[39m_build_tree(data)\n\u001b[1;32m     25\u001b[0m     \u001b[38;5;28;01mreturn\u001b[39;00m \u001b[38;5;28mself\u001b[39m\u001b[38;5;241m.\u001b[39mtree\n",
      "Cell \u001b[0;32mIn[1], line 44\u001b[0m, in \u001b[0;36mTDIDT._build_tree\u001b[0;34m(self, data)\u001b[0m\n\u001b[1;32m     42\u001b[0m \u001b[38;5;66;03m# Find the best feature to split on\u001b[39;00m\n\u001b[1;32m     43\u001b[0m \u001b[38;5;28;01mfor\u001b[39;00m feature \u001b[38;5;129;01min\u001b[39;00m feature_order:  \u001b[38;5;66;03m# Iterate based on feature order\u001b[39;00m\n\u001b[0;32m---> 44\u001b[0m     info_gain \u001b[38;5;241m=\u001b[39m calculate_information_gain(data, feature)\n\u001b[1;32m     45\u001b[0m     \u001b[38;5;28;01mif\u001b[39;00m info_gain \u001b[38;5;241m>\u001b[39m max_info_gain:\n\u001b[1;32m     46\u001b[0m         max_info_gain \u001b[38;5;241m=\u001b[39m info_gain\n",
      "Cell \u001b[0;32mIn[1], line 13\u001b[0m, in \u001b[0;36mcalculate_information_gain\u001b[0;34m(data, feature)\u001b[0m\n\u001b[1;32m     11\u001b[0m \u001b[38;5;28;01mdef\u001b[39;00m \u001b[38;5;21mcalculate_information_gain\u001b[39m(data, feature):\n\u001b[1;32m     12\u001b[0m     total_entropy \u001b[38;5;241m=\u001b[39m calculate_entropy(data)\n\u001b[0;32m---> 13\u001b[0m     feature_values \u001b[38;5;241m=\u001b[39m data[feature]\u001b[38;5;241m.\u001b[39mvalue_counts(normalize\u001b[38;5;241m=\u001b[39m\u001b[38;5;28;01mTrue\u001b[39;00m)\n\u001b[1;32m     14\u001b[0m     weighted_entropy \u001b[38;5;241m=\u001b[39m \u001b[38;5;28msum\u001b[39m(feature_values\u001b[38;5;241m.\u001b[39mapply(\u001b[38;5;28;01mlambda\u001b[39;00m val: calculate_entropy(data[data[feature] \u001b[38;5;241m==\u001b[39m val])) \u001b[38;5;241m*\u001b[39m feature_values)\n\u001b[1;32m     15\u001b[0m     \u001b[38;5;28;01mreturn\u001b[39;00m total_entropy \u001b[38;5;241m-\u001b[39m weighted_entropy\n",
      "File \u001b[0;32m/opt/anaconda3/lib/python3.12/site-packages/pandas/core/frame.py:4102\u001b[0m, in \u001b[0;36mDataFrame.__getitem__\u001b[0;34m(self, key)\u001b[0m\n\u001b[1;32m   4100\u001b[0m \u001b[38;5;28;01mif\u001b[39;00m \u001b[38;5;28mself\u001b[39m\u001b[38;5;241m.\u001b[39mcolumns\u001b[38;5;241m.\u001b[39mnlevels \u001b[38;5;241m>\u001b[39m \u001b[38;5;241m1\u001b[39m:\n\u001b[1;32m   4101\u001b[0m     \u001b[38;5;28;01mreturn\u001b[39;00m \u001b[38;5;28mself\u001b[39m\u001b[38;5;241m.\u001b[39m_getitem_multilevel(key)\n\u001b[0;32m-> 4102\u001b[0m indexer \u001b[38;5;241m=\u001b[39m \u001b[38;5;28mself\u001b[39m\u001b[38;5;241m.\u001b[39mcolumns\u001b[38;5;241m.\u001b[39mget_loc(key)\n\u001b[1;32m   4103\u001b[0m \u001b[38;5;28;01mif\u001b[39;00m is_integer(indexer):\n\u001b[1;32m   4104\u001b[0m     indexer \u001b[38;5;241m=\u001b[39m [indexer]\n",
      "File \u001b[0;32m/opt/anaconda3/lib/python3.12/site-packages/pandas/core/indexes/base.py:3812\u001b[0m, in \u001b[0;36mIndex.get_loc\u001b[0;34m(self, key)\u001b[0m\n\u001b[1;32m   3807\u001b[0m     \u001b[38;5;28;01mif\u001b[39;00m \u001b[38;5;28misinstance\u001b[39m(casted_key, \u001b[38;5;28mslice\u001b[39m) \u001b[38;5;129;01mor\u001b[39;00m (\n\u001b[1;32m   3808\u001b[0m         \u001b[38;5;28misinstance\u001b[39m(casted_key, abc\u001b[38;5;241m.\u001b[39mIterable)\n\u001b[1;32m   3809\u001b[0m         \u001b[38;5;129;01mand\u001b[39;00m \u001b[38;5;28many\u001b[39m(\u001b[38;5;28misinstance\u001b[39m(x, \u001b[38;5;28mslice\u001b[39m) \u001b[38;5;28;01mfor\u001b[39;00m x \u001b[38;5;129;01min\u001b[39;00m casted_key)\n\u001b[1;32m   3810\u001b[0m     ):\n\u001b[1;32m   3811\u001b[0m         \u001b[38;5;28;01mraise\u001b[39;00m InvalidIndexError(key)\n\u001b[0;32m-> 3812\u001b[0m     \u001b[38;5;28;01mraise\u001b[39;00m \u001b[38;5;167;01mKeyError\u001b[39;00m(key) \u001b[38;5;28;01mfrom\u001b[39;00m \u001b[38;5;21;01merr\u001b[39;00m\n\u001b[1;32m   3813\u001b[0m \u001b[38;5;28;01mexcept\u001b[39;00m \u001b[38;5;167;01mTypeError\u001b[39;00m:\n\u001b[1;32m   3814\u001b[0m     \u001b[38;5;66;03m# If we have a listlike key, _check_indexing_error will raise\u001b[39;00m\n\u001b[1;32m   3815\u001b[0m     \u001b[38;5;66;03m#  InvalidIndexError. Otherwise we fall through and re-raise\u001b[39;00m\n\u001b[1;32m   3816\u001b[0m     \u001b[38;5;66;03m#  the TypeError.\u001b[39;00m\n\u001b[1;32m   3817\u001b[0m     \u001b[38;5;28mself\u001b[39m\u001b[38;5;241m.\u001b[39m_check_indexing_error(key)\n",
      "\u001b[0;31mKeyError\u001b[0m: 'Lug_boot'"
     ]
    }
   ],
   "source": [
    "import pandas as pd\n",
    "import math\n",
    "\n",
    "# Step 1: Calculate Entropy for a dataset\n",
    "def calculate_entropy(data):\n",
    "    labels = data.iloc[:, -1].value_counts(normalize=True)\n",
    "    entropy = -sum(labels * labels.apply(lambda x: math.log2(x) if x > 0 else 0))\n",
    "    return entropy\n",
    "\n",
    "# Step 2: Calculate Information Gain for a feature\n",
    "def calculate_information_gain(data, feature):\n",
    "    total_entropy = calculate_entropy(data)\n",
    "    feature_values = data[feature].value_counts(normalize=True)\n",
    "    weighted_entropy = sum(feature_values.apply(lambda val: calculate_entropy(data[data[feature] == val])) * feature_values)\n",
    "    return total_entropy - weighted_entropy\n",
    "\n",
    "# Step 3: TDIDT Algorithm to build a Decision Tree\n",
    "class TDIDT:\n",
    "    def __init__(self, approach='take_first'):\n",
    "        self.tree = None\n",
    "        self.approach = approach\n",
    "\n",
    "    def fit(self, data):\n",
    "        self.tree = self._build_tree(data)\n",
    "        return self.tree\n",
    "\n",
    "    def _build_tree(self, data):\n",
    "        # If all instances have the same label, return the label\n",
    "        if len(data.iloc[:, -1].unique()) == 1:\n",
    "            return data.iloc[0, -1]\n",
    "        \n",
    "        # If there are no more features to split on, return the majority label\n",
    "        if len(data.columns) == 1:\n",
    "            return data.iloc[:, -1].mode()[0]\n",
    "        \n",
    "        best_feature = None\n",
    "        max_info_gain = -1\n",
    "        \n",
    "        # Decide the order of features based on the approach\n",
    "        feature_order = self._get_feature_order()\n",
    "\n",
    "        # Find the best feature to split on\n",
    "        for feature in feature_order:  # Iterate based on feature order\n",
    "            info_gain = calculate_information_gain(data, feature)\n",
    "            if info_gain > max_info_gain:\n",
    "                max_info_gain = info_gain\n",
    "                best_feature = feature\n",
    "        \n",
    "        tree = {best_feature: {}}\n",
    "        feature_values = data[best_feature].unique()\n",
    "\n",
    "        # Recursively build the tree based on the selected feature\n",
    "        for value in feature_values:\n",
    "            subset = data[data[best_feature] == value].drop(columns=[best_feature])\n",
    "            tree[best_feature][value] = self._build_tree(subset)\n",
    "        \n",
    "        return tree\n",
    "\n",
    "    def _get_feature_order(self):\n",
    "        if self.approach == 'take_first':\n",
    "            return ['Buying', 'Maintenance', 'Doors', 'Persons', 'Lug_boot', 'Safety']\n",
    "        elif self.approach == 'take_last':\n",
    "            return ['Safety', 'Lug_boot', 'Persons', 'Doors', 'Maintenance', 'Buying']\n",
    "\n",
    "    def print_tree(self, tree=None, indent=\"\"):\n",
    "        \"\"\"Print the decision tree in a human-readable format.\"\"\"\n",
    "        if tree is None:\n",
    "            tree = self.tree\n",
    "        \n",
    "        if isinstance(tree, dict):\n",
    "            for feature, branches in tree.items():\n",
    "                for value, subtree in branches.items():\n",
    "                    print(f\"{indent}{feature} = {value}?\")\n",
    "                    self.print_tree(subtree, indent + \"  \")\n",
    "        else:\n",
    "            print(f\"{indent}Predict: {tree}\")\n",
    "\n",
    "# Load the dataset (replace with your file path)\n",
    "file_path = '/Users/rahatrihan/Desktop/AIUB/data mining/Assignment/car_evaluation.csv'\n",
    "data = pd.read_csv(file_path)\n",
    "\n",
    "# Train TDIDT model using 'Take First' approach\n",
    "model_take_first = TDIDT(approach='take_first')\n",
    "model_take_first.fit(data)\n",
    "\n",
    "# Print the generated decision tree for Take First approach\n",
    "print(\"Decision Tree using 'Take First' approach:\")\n",
    "model_take_first.print_tree()\n",
    "\n",
    "# Train TDIDT model using 'Take Last' approach\n",
    "model_take_last = TDIDT(approach='take_last')\n",
    "model_take_last.fit(data)\n",
    "\n",
    "# Print the generated decision tree for Take Last approach\n",
    "print(\"\\nDecision Tree using 'Take Last' approach:\")\n",
    "model_take_last.print_tree()\n"
   ]
  },
  {
   "cell_type": "code",
   "execution_count": 3,
   "id": "8f46eab7-dbfd-4c03-b185-cfdaf0f02b49",
   "metadata": {},
   "outputs": [
    {
     "name": "stdout",
     "output_type": "stream",
     "text": [
      "Index(['Buying', 'Price', 'Maintenance', 'Doors', 'Persons', 'Lug_Boot',\n",
      "       'Safety Class'],\n",
      "      dtype='object')\n"
     ]
    }
   ],
   "source": [
    "print(data.columns)\n"
   ]
  },
  {
   "cell_type": "code",
   "execution_count": null,
   "id": "66cbebb8-2c68-41a9-8c2a-1ce726f98541",
   "metadata": {},
   "outputs": [],
   "source": [
    "s"
   ]
  }
 ],
 "metadata": {
  "kernelspec": {
   "display_name": "Python 3 (ipykernel)",
   "language": "python",
   "name": "python3"
  },
  "language_info": {
   "codemirror_mode": {
    "name": "ipython",
    "version": 3
   },
   "file_extension": ".py",
   "mimetype": "text/x-python",
   "name": "python",
   "nbconvert_exporter": "python",
   "pygments_lexer": "ipython3",
   "version": "3.12.7"
  }
 },
 "nbformat": 4,
 "nbformat_minor": 5
}
